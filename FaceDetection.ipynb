{
 "cells": [
  {
   "cell_type": "code",
   "execution_count": 1,
   "id": "baf21025",
   "metadata": {},
   "outputs": [],
   "source": [
    "# Imports\n",
    "import cv2 \n",
    "# USE PYTHON 3.11"
   ]
  },
  {
   "cell_type": "code",
   "execution_count": 2,
   "id": "828398ae",
   "metadata": {},
   "outputs": [],
   "source": [
    "# Set up Haar-Casacades\n",
    "\n",
    "# Load classifier\n",
    "classifier = cv2.CascadeClassifier('haarcascade_frontalface_default.xml')"
   ]
  },
  {
   "cell_type": "code",
   "execution_count": 3,
   "id": "8323ad49",
   "metadata": {},
   "outputs": [],
   "source": [
    "def detect_bounding_boxes(frame):\n",
    "    gray = cv2.cvtColor(frame, cv2.COLOR_BGR2GRAY)\n",
    "    faces = classifier.detectMultiScale(gray, scaleFactor=1.3, minNeighbors=5, minSize=(20, 20))\n",
    "\n",
    "    for (x, y, w, h) in faces:\n",
    "        cv2.rectangle(frame, (x, y), (x + w, y + h), (0, 255, 0), 4)\n",
    "    \n",
    "    return faces"
   ]
  },
  {
   "cell_type": "code",
   "execution_count": null,
   "id": "4519fcd0",
   "metadata": {},
   "outputs": [
    {
     "name": "stderr",
     "output_type": "stream",
     "text": [
      "2025-10-14 18:25:11.997 Python[45019:3192477] WARNING: AVCaptureDeviceTypeExternal is deprecated for Continuity Cameras. Please use AVCaptureDeviceTypeContinuityCamera and add NSCameraUseContinuityCameraDeviceType to your Info.plist.\n"
     ]
    },
    {
     "ename": "",
     "evalue": "",
     "output_type": "error",
     "traceback": [
      "\u001b[1;31mThe Kernel crashed while executing code in the current cell or a previous cell. \n",
      "\u001b[1;31mPlease review the code in the cell(s) to identify a possible cause of the failure. \n",
      "\u001b[1;31mClick <a href='https://aka.ms/vscodeJupyterKernelCrash'>here</a> for more info. \n",
      "\u001b[1;31mView Jupyter <a href='command:jupyter.viewOutput'>log</a> for further details."
     ]
    }
   ],
   "source": [
    "# Start up web-cam\n",
    "capture = cv2.VideoCapture(1) # 0 for laptop camera, otherwise provide path to video\n",
    "\n",
    "# Continuously read frames and apply haar cascades\n",
    "while True:\n",
    "    result, frame = capture.read() # Read a frame from the video\n",
    "\n",
    "    if not result:\n",
    "        print(\"ERROR! Breaking\")\n",
    "        break \n",
    "\n",
    "    faces = detect_bounding_boxes(frame)\n",
    "\n",
    "    cv2.imshow(\"Detection\", frame) # Display processed frame in a window\n",
    "\n",
    "    if cv2.waitKey(1) & 0xFF == ord(\"q\"):\n",
    "        break \n",
    "\n",
    "capture.release()\n",
    "cv2.destroyAllWindows()"
   ]
  }
 ],
 "metadata": {
  "kernelspec": {
   "display_name": "Python 3",
   "language": "python",
   "name": "python3"
  },
  "language_info": {
   "codemirror_mode": {
    "name": "ipython",
    "version": 3
   },
   "file_extension": ".py",
   "mimetype": "text/x-python",
   "name": "python",
   "nbconvert_exporter": "python",
   "pygments_lexer": "ipython3",
   "version": "3.11.0"
  }
 },
 "nbformat": 4,
 "nbformat_minor": 5
}
